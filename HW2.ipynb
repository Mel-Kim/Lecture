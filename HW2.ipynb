{
  "nbformat": 4,
  "nbformat_minor": 0,
  "metadata": {
    "colab": {
      "name": "20160854 김민경 HW2.ipynb의 사본",
      "private_outputs": true,
      "provenance": [],
      "collapsed_sections": []
    },
    "kernelspec": {
      "name": "python3",
      "display_name": "Python 3"
    },
    "accelerator": "GPU"
  },
  "cells": [
    {
      "cell_type": "markdown",
      "metadata": {
        "id": "5ggx0s2EagF9"
      },
      "source": [
        "#**[HW#2] 로이터 뉴스 카테고리로 분류**\n",
        "*   RNN /LSTM / GRU를 이용하여 입력된 문장의 의미를 파악하여 46개 중 하나의 카테고리로 분류하는 작업"
      ]
    },
    {
      "cell_type": "markdown",
      "metadata": {
        "id": "z92e5VQ_HV6n"
      },
      "source": [
        "\n",
        "*   **런타임 유형을 GPU로 변경**\n",
        "\n"
      ]
    },
    {
      "cell_type": "code",
      "metadata": {
        "id": "tk2wXm1iBmIl"
      },
      "source": [
        "# 텐서플로 2 버전 선택\n",
        "try:\n",
        "    # %tensorflow_version only exists in Colab.\n",
        "    %tensorflow_version 2.x\n",
        "except Exception:\n",
        "    pass\n",
        "import tensorflow as tf"
      ],
      "execution_count": null,
      "outputs": []
    },
    {
      "cell_type": "code",
      "metadata": {
        "id": "v27mCGhjmZMX"
      },
      "source": [
        "import numpy as np\n",
        "import matplotlib.pyplot as plt\n",
        "import os"
      ],
      "execution_count": null,
      "outputs": []
    },
    {
      "cell_type": "markdown",
      "metadata": {
        "id": "_n0SSc4jcP9R"
      },
      "source": [
        "## Data Setup\n",
        "\n",
        "*  로이터 뉴스 데이터베이스는 총 11,258개의 뉴스 기사와 46개의 카테고리로 나뉘어진 대용량 텍스트 데이터\n",
        "*  각 뉴스는 단어 인덱스의 시퀀스로 인코딩되어 있음"
      ]
    },
    {
      "cell_type": "code",
      "metadata": {
        "id": "bJQyEIz3aqfs"
      },
      "source": [
        "# 로이터 뉴스 데이터셋 불러오기\n",
        "from keras.datasets import reuters\n",
        "from keras.models import Sequential\n",
        "from keras.layers import Dense, LSTM, Embedding\n",
        "from keras.preprocessing import sequence\n",
        "from keras.utils import np_utils\n",
        "\n",
        "# seed 값 설정\n",
        "seed = 0\n",
        "np.random.seed(seed)\n",
        "tf.compat.v1.set_random_seed(3)\n",
        "\n",
        "# 불러온 데이터를 학습셋(80%), 테스트셋(20%)으로 나누기\n",
        "(X_train, Y_train), (X_test, Y_test) = reuters.load_data(num_words=1000, test_split=0.2)\n",
        "\n",
        "# 데이터 확인하기\n",
        "category = np.max(Y_train) + 1\n",
        "print(category, '카테고리')\n",
        "print(len(X_train), '학습용 뉴스 기사')\n",
        "print(len(X_test), '테스트용 뉴스 기사')\n",
        "print(X_train[0])\n",
        "print(Y_train[0])"
      ],
      "execution_count": null,
      "outputs": []
    },
    {
      "cell_type": "code",
      "metadata": {
        "id": "0-f88begxo6S"
      },
      "source": [
        "word_to_index = reuters.get_word_index() #  단어와 그 단어에 부여된 인덱스를 리턴\n",
        "print(word_to_index)"
      ],
      "execution_count": null,
      "outputs": []
    },
    {
      "cell_type": "code",
      "metadata": {
        "id": "mVjxH1fCw02X"
      },
      "source": [
        "index_to_word = {}\n",
        "for key, value in word_to_index.items():\n",
        "    index_to_word[value] = key          # 인덱스의 실제 단어를 확인\n",
        "print(' '.join([index_to_word[X] for X in X_train[0]]))"
      ],
      "execution_count": null,
      "outputs": []
    },
    {
      "cell_type": "code",
      "metadata": {
        "id": "basBLzI8z0Np"
      },
      "source": [
        "print('뉴스 기사의 최대 길이 :{}'.format(max(len(l) for l in X_train)))\n",
        "print('뉴스 기사의 평균 길이 :{}'.format(sum(map(len, X_train))/len(X_train)))\n",
        "\n",
        "plt.hist([len(s) for s in X_train], bins=50)\n",
        "plt.xlabel('length of samples')\n",
        "plt.ylabel('number of samples')\n",
        "plt.show()"
      ],
      "execution_count": null,
      "outputs": []
    },
    {
      "cell_type": "code",
      "metadata": {
        "id": "s64PXDaT0r9b"
      },
      "source": [
        "plt.hist([s for s in Y_train], bins=46)\n",
        "plt.xlabel('categories(Y)')  # 뉴스 카테고리별 데이터 수(46개의 카테고리)\n",
        "plt.ylabel('number of samples')\n",
        "plt.show()"
      ],
      "execution_count": null,
      "outputs": []
    },
    {
      "cell_type": "markdown",
      "metadata": {
        "id": "NSpxg6BUca9B"
      },
      "source": [
        "## **1. LSTM**"
      ]
    },
    {
      "cell_type": "code",
      "metadata": {
        "id": "ApUzX5JTidmY"
      },
      "source": [
        "# 데이터 전처리\n",
        "\n",
        "x_train = sequence.pad_sequences(X_train, maxlen=100)  # maxlen 설정하기(손실이 적어지게)\n",
        "x_test = sequence.pad_sequences(X_test, maxlen=100)\n",
        "y_train = np_utils.to_categorical(Y_train)\n",
        "y_test = np_utils.to_categorical(Y_test)"
      ],
      "execution_count": null,
      "outputs": []
    },
    {
      "cell_type": "code",
      "metadata": {
        "id": "dKBDA14-jgIB"
      },
      "source": [
        "# 모델설정(LSTM 1개)\n",
        "model = tf.keras.Sequential([\n",
        "    tf.keras.layers.Embedding(11258, 300, input_length=2000),\n",
        "    tf.keras.layers.LSTM(units=300),\n",
        "    tf.keras.layers.Dropout(0.25),\n",
        "    tf.keras.layers.Dense(46, activation='softmax')\n",
        "])\n",
        "\n",
        "model.compile(loss='categorical_crossentropy',optimizer='adam', metrics=['accuracy'])\n",
        "model.summary()"
      ],
      "execution_count": null,
      "outputs": []
    },
    {
      "cell_type": "code",
      "metadata": {
        "id": "rGh77gULbOPJ"
      },
      "source": [
        "# 모델설정(LSTM 2개)\n",
        "model = tf.keras.Sequential([\n",
        "    tf.keras.layers.Embedding(11258, 300, input_length=2000),\n",
        "    tf.keras.layers.LSTM(units=50,return_sequences=True),\n",
        "    tf.keras.layers.LSTM(units=50),\n",
        "   # tf.keras.layers.Dropout(0.25),\n",
        "    tf.keras.layers.Dense(46, activation='softmax')\n",
        "])\n",
        "\n",
        "model.compile(loss='categorical_crossentropy',optimizer='adam', metrics=['accuracy'])\n",
        "model.summary()"
      ],
      "execution_count": null,
      "outputs": []
    },
    {
      "cell_type": "code",
      "metadata": {
        "id": "1V9IHFJyyZrg"
      },
      "source": [
        "# 모델의 실행\n",
        "history = model.fit(x_train, y_train, epochs=10, validation_data=(x_test, y_test))\n",
        "\n",
        "plt.figure(figsize=(12, 4))\n",
        "\n",
        "plt.subplot(1, 2, 1)\n",
        "plt.plot(history.history['loss'], 'b-', label='loss')\n",
        "plt.plot(history.history['val_loss'], 'r--', label='val_loss')\n",
        "plt.xlabel('Epoch')\n",
        "plt.legend()\n",
        "\n",
        "plt.subplot(1, 2, 2)\n",
        "plt.plot(history.history['accuracy'], 'g-', label='accuracy')\n",
        "plt.plot(history.history['val_accuracy'], 'k--', label='val_accuracy')\n",
        "plt.xlabel('Epoch')\n",
        "plt.legend()\n",
        "\n",
        "plt.show()"
      ],
      "execution_count": null,
      "outputs": []
    },
    {
      "cell_type": "code",
      "metadata": {
        "id": "mASfRmLTimLW"
      },
      "source": [
        "# 테스트 정확도 출력\n",
        "print(\"\\n Test Accuracy: %.4f\" % (model.evaluate(x_test, y_test)[1]))"
      ],
      "execution_count": null,
      "outputs": []
    },
    {
      "cell_type": "code",
      "metadata": {
        "id": "ew0dleKLegNf"
      },
      "source": [
        "loss, accuracy = model.evaluate(x_test, y_test, verbose=0)\n",
        "print(10*(accuracy-loss+1))\n",
        "print(accuracy)\n",
        "print(loss)"
      ],
      "execution_count": null,
      "outputs": []
    },
    {
      "cell_type": "markdown",
      "metadata": {
        "id": "pbLreRHnkp-7"
      },
      "source": [
        "## **2. GRU**"
      ]
    },
    {
      "cell_type": "code",
      "metadata": {
        "id": "GKihDhziqkbq"
      },
      "source": [
        "# GRU\n",
        "model = tf.keras.Sequential([\n",
        "    tf.keras.layers.Embedding(11258, 300, input_length=200),\n",
        "    #tf.keras.layers.GRU(units=50,return_sequences=True),\n",
        "    tf.keras.layers.GRU(units=200),\n",
        "    tf.keras.layers.Dropout(0.25),\n",
        "    tf.keras.layers.Dense(46, activation='softmax')\n",
        "])\n",
        "\n",
        "model.compile(loss='categorical_crossentropy',optimizer='adam', metrics=['accuracy'])\n",
        "model.summary()"
      ],
      "execution_count": null,
      "outputs": []
    },
    {
      "cell_type": "code",
      "metadata": {
        "id": "FRkP55zArAKV"
      },
      "source": [
        "# 모델의 실행\n",
        "history = model.fit(x_train, y_train, epochs=10, validation_data=(x_test, y_test))\n",
        "\n",
        "plt.figure(figsize=(12, 4))\n",
        "\n",
        "plt.subplot(1, 2, 1)\n",
        "plt.plot(history.history['loss'], 'b-', label='loss')\n",
        "plt.plot(history.history['val_loss'], 'r--', label='val_loss')\n",
        "plt.xlabel('Epoch')\n",
        "plt.legend()\n",
        "\n",
        "plt.subplot(1, 2, 2)\n",
        "plt.plot(history.history['accuracy'], 'g-', label='accuracy')\n",
        "plt.plot(history.history['val_accuracy'], 'k--', label='val_accuracy')\n",
        "plt.xlabel('Epoch')\n",
        "plt.legend()\n",
        "\n",
        "plt.show()"
      ],
      "execution_count": null,
      "outputs": []
    },
    {
      "cell_type": "code",
      "metadata": {
        "id": "a8Vd_PZTrE0T"
      },
      "source": [
        "# 테스트 정확도 출력\n",
        "print(\"\\n Test Accuracy: %.4f\" % (model.evaluate(x_test, y_test)[1]))\n",
        "loss, acc = model.evaluate(x_test, y_test)\n",
        "print(10*(acc-loss+1))\n",
        "print(loss)"
      ],
      "execution_count": null,
      "outputs": []
    }
  ]
}